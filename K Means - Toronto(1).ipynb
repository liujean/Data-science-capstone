{
 "cells": [
  {
   "cell_type": "code",
   "execution_count": 1,
   "metadata": {},
   "outputs": [],
   "source": [
    "from bs4 import BeautifulSoup\n",
    "import requests\n",
    "import pandas as pd\n",
    "\n",
    "# assign the link of the website to scrape the data\n",
    "website_url = requests.get('https://en.wikipedia.org/wiki/List_of_postal_codes_of_Canada:_M').text\n",
    "\n",
    "soup = BeautifulSoup (website_url,'lxml')\n",
    "print(soup.prettify())\n",
    "\n",
    "# all table contents are under class \"wikitable sortable\"\n",
    "My_table = soup.find('table',{'class':'wikitable sortable'})\n",
    "table_rows = My_table.findAll('tr')\n",
    "\n",
    "data = []\n",
    "for row in table_rows:\n",
    "    data.append([t.text.strip() for t in row.find_all('td')])\n",
    "    \n",
    "df = pd.DataFrame(data, columns = ['PostalCode','Borough','Neighborhood'])\n",
    "\n",
    "df.head()\n",
    "df.info()\n",
    "df.shape()\n",
    "\n",
    "# ignore cells where Borough is \"not assigned\"\n",
    "df.drop(df[df['Borough']==\"Not assigned\"].index,axis=0, inplace=True)\n",
    "\n",
    "df1 = df.reset_index()\n",
    "df1.head()\n",
    "df1.info()\n",
    "\n",
    "df2 = df1.groupby('PostalCode').agg(lambda x: ','.join(x))\n",
    "df2.head()\n",
    "df2.info()\n",
    "\n",
    "df3 = df2.reset_index()\n",
    "df3['Borough']=     df3['Borough'].str.replace('nan|[{}\\s]','').str.split(',').apply(set).str.join(',').str.strip(',').str.replace(\",{2,}\",\",\")\n",
    "df3 = df2.reset_index()\n",
    "df3.head()\n",
    "\n"
   ]
  }
 ],
 "metadata": {
  "kernelspec": {
   "display_name": "Python 2",
   "language": "python",
   "name": "python2"
  },
  "language_info": {
   "codemirror_mode": {
    "name": "ipython",
    "version": 2
   },
   "file_extension": ".py",
   "mimetype": "text/x-python",
   "name": "python",
   "nbconvert_exporter": "python",
   "pygments_lexer": "ipython2",
   "version": "2.7.16"
  }
 },
 "nbformat": 4,
 "nbformat_minor": 2
}
